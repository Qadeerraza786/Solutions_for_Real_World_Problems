{
  "nbformat": 4,
  "nbformat_minor": 0,
  "metadata": {
    "colab": {
      "provenance": [],
      "authorship_tag": "ABX9TyNKGxdtTrkMCsTMVT1wPFSX",
      "include_colab_link": true
    },
    "kernelspec": {
      "name": "python3",
      "display_name": "Python 3"
    },
    "language_info": {
      "name": "python"
    }
  },
  "cells": [
    {
      "cell_type": "markdown",
      "metadata": {
        "id": "view-in-github",
        "colab_type": "text"
      },
      "source": [
        "<a href=\"https://colab.research.google.com/github/Qadeerraza786/Solutions_for_Real_World_Problems/blob/main/Daily_Expense_Tracker.ipynb\" target=\"_parent\"><img src=\"https://colab.research.google.com/assets/colab-badge.svg\" alt=\"Open In Colab\"/></a>"
      ]
    },
    {
      "cell_type": "code",
      "source": [
        "import datetime\n",
        "\n",
        "# Function to validate user input for item price\n",
        "def get_item_price():\n",
        "    while True:\n",
        "        try:\n",
        "            price = float(input(\"Enter your item price: \"))  # Ask for item price\n",
        "            if price < 0:  # Make sure the price is non-negative\n",
        "                print(\"Price cannot be negative. Please try again.\")\n",
        "            else:\n",
        "                return price\n",
        "        except ValueError:\n",
        "            print(\"Invalid input. Please enter a valid number.\")\n",
        "\n",
        "# Function to display the final summary of expenses\n",
        "def display_summary(items, total):\n",
        "    print(\"\\nSummary of Expenses:\")\n",
        "    print(\"---------------------\")\n",
        "    for item_name, item_price in items:\n",
        "        print(f\"{item_name}: ${item_price:.2f}\")\n",
        "    print(\"---------------------\")\n",
        "    print(f\"Total: ${total:.2f}\")\n",
        "\n",
        "# Function to track daily expenses\n",
        "def daily_expense_tracker():\n",
        "    total = 0  # Start from zero inside the function\n",
        "    items = []  # List to store item names and prices\n",
        "\n",
        "    while True:\n",
        "        item_name = input(\"Enter your item name: \")  # Ask for item name\n",
        "\n",
        "        # Get valid price input\n",
        "        item_price = get_item_price()\n",
        "\n",
        "        # Add item price to total and store the item details\n",
        "        total += item_price\n",
        "        items.append((item_name, item_price))\n",
        "\n",
        "        # Ask if user wants to add another item\n",
        "        more = input(\"Do you want to enter another item? (yes/no): \").lower()\n",
        "        if more == \"no\":  # If the answer is 'no', stop the loop\n",
        "            break\n",
        "\n",
        "    # Display the summary of expenses\n",
        "    display_summary(items, total)\n",
        "\n",
        "    # Optionally, save the expenses to a file\n",
        "    with open(\"expenses.txt\", \"a\") as file:\n",
        "        file.write(f\"Date: {datetime.datetime.now().strftime('%Y-%m-%d %H:%M:%S')}\\n\")\n",
        "        for item_name, item_price in items:\n",
        "            file.write(f\"{item_name}: ${item_price:.2f}\\n\")\n",
        "        file.write(f\"Total: ${total:.2f}\\n\\n\")\n",
        "    print(\"\"\"\\nDear Customer, your expenses list have been saved to 'expenses.txt'.\n",
        "you can Share it with someone or save it for future use.\"\"\")\n",
        "\n",
        "# Call the function to start tracking expenses\n",
        "daily_expense_tracker()"
      ],
      "metadata": {
        "colab": {
          "base_uri": "https://localhost:8080/"
        },
        "id": "vcTh5qD9x9ZE",
        "outputId": "fa2d054d-739f-4481-ed82-a2a2efa19268"
      },
      "execution_count": 59,
      "outputs": [
        {
          "output_type": "stream",
          "name": "stdout",
          "text": [
            "Enter your item name: All Vegetables\n",
            "Enter your item price: 45.75\n",
            "Do you want to enter another item? (yes/no): yes\n",
            "Enter your item name: Rice (5 Sacks)\n",
            "Enter your item price: 195.85\n",
            "Do you want to enter another item? (yes/no): yes\n",
            "Enter your item name: All Fruits\n",
            "Enter your item price: 45\n",
            "Do you want to enter another item? (yes/no): yes\n",
            "Enter your item name: Eggs (10 Dozen)\n",
            "Enter your item price: 185.75\n",
            "Do you want to enter another item? (yes/no): yes\n",
            "Enter your item name: Milk (5 Liters)\n",
            "Enter your item price: 72.85\n",
            "Do you want to enter another item? (yes/no): no\n",
            "\n",
            "Summary of Expenses:\n",
            "---------------------\n",
            "All Vegetables: $45.75\n",
            "Rice (5 Sacks): $195.85\n",
            "All Fruits: $45.00\n",
            "Eggs (10 Dozen): $185.75\n",
            "Milk (5 Liters): $72.85\n",
            "---------------------\n",
            "Total: $545.20\n",
            "\n",
            "Dear Customer, your expenses list have been saved to 'expenses.txt'. \n",
            "you can Share it with someone or save it for future use.\n"
          ]
        }
      ]
    }
  ]
}