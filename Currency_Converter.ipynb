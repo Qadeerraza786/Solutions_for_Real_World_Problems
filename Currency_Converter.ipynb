{
  "nbformat": 4,
  "nbformat_minor": 0,
  "metadata": {
    "colab": {
      "provenance": [],
      "authorship_tag": "ABX9TyP/NvhCMlVzNoKB0WoBMyzB",
      "include_colab_link": true
    },
    "kernelspec": {
      "name": "python3",
      "display_name": "Python 3"
    },
    "language_info": {
      "name": "python"
    }
  },
  "cells": [
    {
      "cell_type": "markdown",
      "metadata": {
        "id": "view-in-github",
        "colab_type": "text"
      },
      "source": [
        "<a href=\"https://colab.research.google.com/github/Qadeerraza786/Solutions_for_Real_World_Problems/blob/main/Currency_Converter.ipynb\" target=\"_parent\"><img src=\"https://colab.research.google.com/assets/colab-badge.svg\" alt=\"Open In Colab\"/></a>"
      ]
    },
    {
      "cell_type": "code",
      "execution_count": 9,
      "metadata": {
        "colab": {
          "base_uri": "https://localhost:8080/"
        },
        "id": "D0d7ae7thRJ-",
        "outputId": "ec490f62-ee37-4060-c7fe-2aef18584636"
      },
      "outputs": [
        {
          "output_type": "stream",
          "name": "stdout",
          "text": [
            "Requirement already satisfied: requests in /usr/local/lib/python3.11/dist-packages (2.32.3)\n",
            "Requirement already satisfied: charset-normalizer<4,>=2 in /usr/local/lib/python3.11/dist-packages (from requests) (3.4.1)\n",
            "Requirement already satisfied: idna<4,>=2.5 in /usr/local/lib/python3.11/dist-packages (from requests) (3.10)\n",
            "Requirement already satisfied: urllib3<3,>=1.21.1 in /usr/local/lib/python3.11/dist-packages (from requests) (2.4.0)\n",
            "Requirement already satisfied: certifi>=2017.4.17 in /usr/local/lib/python3.11/dist-packages (from requests) (2025.4.26)\n"
          ]
        }
      ],
      "source": [
        "!pip install requests"
      ]
    },
    {
      "cell_type": "code",
      "source": [
        "import requests\n",
        "\n",
        "# Your API key from Open Exchange Rates\n",
        "API_KEY = '6f1333d5a2fb4355b7c4c5839e60ed40'\n",
        "\n",
        "# Function to fetch the latest exchange rates\n",
        "def get_exchange_rates(api_key):\n",
        "    url = f\"https://openexchangerates.org/api/latest.json?app_id={api_key}\"\n",
        "    response = requests.get(url)\n",
        "    data = response.json()\n",
        "    return data['rates']\n",
        "\n",
        "# Function to convert currencies\n",
        "def convert_currency(amount, from_currency, to_currency, rates):\n",
        "    from_rate = rates.get(from_currency.upper())\n",
        "    to_rate = rates.get(to_currency.upper())\n",
        "\n",
        "    if from_rate and to_rate:\n",
        "        converted_amount = amount * (to_rate / from_rate)\n",
        "        return converted_amount\n",
        "    else:\n",
        "        raise ValueError(\"Currency not found in the rates provided.\")\n",
        "\n",
        "# Input from the user\n",
        "amount = float(input(\"Enter the amount to convert: \"))\n",
        "from_currency = input(\"Enter the source currency (e.g., USD): \")\n",
        "to_currency = input(\"Enter the target currency (e.g., EUR): \")\n",
        "\n",
        "# Fetch the latest exchange rates\n",
        "rates = get_exchange_rates(API_KEY)\n",
        "\n",
        "# Perform currency conversion\n",
        "try:\n",
        "    result = convert_currency(amount, from_currency, to_currency, rates)\n",
        "    print(f\"{amount} {from_currency.upper()} is equal to {result:.2f} {to_currency.upper()}\")\n",
        "except ValueError as e:\n",
        "    print(e)"
      ],
      "metadata": {
        "colab": {
          "base_uri": "https://localhost:8080/"
        },
        "id": "jnTRI4KRiDO5",
        "outputId": "d13758fe-5bce-400e-b811-b62527c3adcd"
      },
      "execution_count": 8,
      "outputs": [
        {
          "output_type": "stream",
          "name": "stdout",
          "text": [
            "Enter the amount to convert: 1550\n",
            "Enter the source currency (e.g., USD): usd\n",
            "Enter the target currency (e.g., EUR): pkr\n",
            "1550.0 USD is equal to 436943.88 PKR\n"
          ]
        }
      ]
    }
  ]
}