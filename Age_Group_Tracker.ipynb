{
  "nbformat": 4,
  "nbformat_minor": 0,
  "metadata": {
    "colab": {
      "provenance": [],
      "authorship_tag": "ABX9TyO5FRJ1jEBMOAc6VbVQk8hq",
      "include_colab_link": true
    },
    "kernelspec": {
      "name": "python3",
      "display_name": "Python 3"
    },
    "language_info": {
      "name": "python"
    }
  },
  "cells": [
    {
      "cell_type": "markdown",
      "metadata": {
        "id": "view-in-github",
        "colab_type": "text"
      },
      "source": [
        "<a href=\"https://colab.research.google.com/github/Qadeerraza786/Solutions_for_Real_World_Problems/blob/main/Age_Group_Tracker.ipynb\" target=\"_parent\"><img src=\"https://colab.research.google.com/assets/colab-badge.svg\" alt=\"Open In Colab\"/></a>"
      ]
    },
    {
      "cell_type": "code",
      "source": [
        "import datetime\n",
        "\n",
        "# Function to calculate age\n",
        "def calculate_age(birth_year):\n",
        "    current_year = datetime.datetime.now().year  # Get current year dynamically\n",
        "    if birth_year > current_year:\n",
        "        raise ValueError(\"Birth year cannot be in the future.\")\n",
        "    return current_year - birth_year\n",
        "\n",
        "# Function to sort based on age\n",
        "def categorize_age(age):\n",
        "    if age <= 12:\n",
        "        return \"Child\"\n",
        "    elif age <= 19:\n",
        "        return \"Teenager\"\n",
        "    elif age <= 59:\n",
        "        return \"Adult\"\n",
        "    else:\n",
        "        return \"Senior\"\n",
        "\n",
        "# Function to get valid input from user\n",
        "def get_valid_year_input():\n",
        "    while True:\n",
        "        try:\n",
        "            birth_year = int(input(\"Enter your birth year: \"))  # Ask for birth year\n",
        "            if birth_year < 0:\n",
        "                raise ValueError(\"Year cannot be negative. Please enter a valid year.\")\n",
        "            return birth_year\n",
        "        except ValueError as e:\n",
        "            print(f\"Invalid input. {e}. Please try again.\")\n",
        "\n",
        "# Main function to run the age checker\n",
        "def main():\n",
        "    # Get valid birth year input\n",
        "    birth_year = get_valid_year_input()\n",
        "\n",
        "    # Calculate age\n",
        "    try:\n",
        "        age = calculate_age(birth_year)\n",
        "    except ValueError as e:\n",
        "        print(e)\n",
        "        return  # Exit if the year is invalid\n",
        "\n",
        "    # Get the age category and print the result\n",
        "    category = categorize_age(age)\n",
        "    print(f\"You are {age} years old, which makes you a {category}.\")\n",
        "\n",
        "# Run the program\n",
        "main()"
      ],
      "metadata": {
        "id": "J63ytosg60vq",
        "outputId": "b356f9bc-aa8a-46ca-a531-461a8bff45f3",
        "colab": {
          "base_uri": "https://localhost:8080/"
        }
      },
      "execution_count": 66,
      "outputs": [
        {
          "output_type": "stream",
          "name": "stdout",
          "text": [
            "Enter your birth year: 2000\n",
            "You are 25 years old, which makes you a Adult.\n"
          ]
        }
      ]
    }
  ]
}